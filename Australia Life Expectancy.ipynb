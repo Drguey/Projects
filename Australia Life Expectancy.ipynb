{
 "cells": [
  {
   "cell_type": "markdown",
   "metadata": {},
   "source": [
    "## Australia Life Expectancy"
   ]
  },
  {
   "cell_type": "markdown",
   "metadata": {},
   "source": [
    "The purpose of this project is to visually demonstrate the distribution of human lifetime. It provides users with information about their life expectancy, sourced from the ABS 2017-19 Life Tables. "
   ]
  },
  {
   "cell_type": "code",
   "execution_count": 443,
   "metadata": {},
   "outputs": [],
   "source": [
    "#Imports\n",
    "%matplotlib inline\n",
    "import pandas as pd\n",
    "import numpy as np\n",
    "import matplotlib.pyplot as plt\n",
    "import matplotlib.animation as animation\n",
    "import ipywidgets as widgets\n",
    "from matplotlib.widgets import Cursor, Button\n",
    "from pylab import *\n"
   ]
  },
  {
   "cell_type": "code",
   "execution_count": 444,
   "metadata": {},
   "outputs": [],
   "source": [
    "#Defining functions\n",
    "#Function to import and manipulate life table data\n",
    "def read_lifetable(sheet_num):\n",
    "    \"\"\"\n",
    "    #Import sheet number sheet_num from lifetable spreadsheet using the name as table_name, removing irreleavnt data and returning the life table\n",
    "    \"\"\"\n",
    "    life_table=pd.read_excel('lifetable.xls',sheet_name=sheet_num,skiprows=7,header=None)\n",
    "    life_table.columns=['Age','Male lx','Male qx','Male Lx','Male ex','Female lx','Female qx','Female Lx','Female ex']\n",
    "    return life_table\n",
    "#Function to find the chosen dataset based on state and gender\n",
    "def rem_life_expect(state, gender):\n",
    "    \"\"\"\n",
    "    Finds the correct life table given a state, and finds the corresponding ex column given the gender, then returns the correct life expectancy values: e_x\n",
    "    \"\"\"\n",
    "    states=['NSW','VIC','QLD','SA','WA','TAS','NT','ACT']\n",
    "    life_table = read_lifetable(states.index(state)+1)\n",
    "    ex_df=pd.DataFrame({'Male':life_table['Male ex'], 'Female':life_table['Female ex']})\n",
    "    ex=ex_df[gender].iloc[1:101]\n",
    "    return ex\n",
    "#Function to create graph\n",
    "def life_expect_graph(state, gender, age):\n",
    "    \"\"\"\n",
    "    Uses interactive input to graph the expected remining life, e_x, against ages x\n",
    "    \"\"\"\n",
    "    #Finding life table for the state\n",
    "    x=range(1,101)\n",
    "    y=rem_life_expect(state, gender)\n",
    "    #plotting\n",
    "    with plt.style.context(\"ggplot\"):\n",
    "        plt.plot(x,y,color='black')\n",
    "        plt.xlabel('Age')\n",
    "        plt.ylabel('Expected Remaining Life')\n",
    "        plt.title('This is a graph of the expected remaining life for people living in ' + s_drop_down.value + ' who are ' + g_drop_down.value + '.')\n",
    "        #Plot vertical line for current age\n",
    "        plt.vlines(x=age, ymin=0, ymax=y[age],color='green',linestyle='--')\n",
    "        z=int(y[age]+age)\n",
    "        #Plot vertical line for age at expected death\n",
    "        plt.vlines(x=z, ymin=0, ymax=y[z],color='red',linestyle='--')\n",
    "        #Calculations to simplify\n",
    "        rounded_green=round(y[age])\n",
    "        rounded_red = round(z)\n",
    "        #Annotations on the vertical lines\n",
    "        green_string='Your expected remaining lifetime is ' + str(rounded_green) + ' years.'\n",
    "        red_string ='You are expected to live until the age of ' + str(rounded_red) + ' years old.'\n",
    "        plt.annotate(text=green_string,xy=(age,y[age]),color='blue')\n",
    "        plt.annotate(text=red_string,xy=(z,y[z]),color='orange')\n",
    "        plt.show()"
   ]
  },
  {
   "cell_type": "code",
   "execution_count": 445,
   "metadata": {},
   "outputs": [],
   "source": [
    "#Inputs and graphing remaining life expectancy\n",
    "#state input\n",
    "s_drop_down = widgets.Dropdown(options=['NSW','VIC','QLD','SA','WA','TAS','NT','ACT'],description='State')\n",
    "s_drop_down\n",
    "#gender input\n",
    "g_drop_down = widgets.Dropdown(options=['Male','Female'],description='Gender')\n",
    "g_drop_down\n",
    "#age input\n",
    "a_slider = widgets.IntSlider(value=1,min=1,max=100,continuous_update=False,description='Current Age')\n",
    "a_slider\n",
    "#output\n",
    "out = widgets.interactive_output(life_expect_graph, {'state': s_drop_down, 'gender': g_drop_down, 'age': a_slider})\n",
    "ui = widgets.HBox([s_drop_down, g_drop_down, a_slider])\n",
    "display(out, ui)"
   ]
  }
 ],
 "metadata": {
  "kernelspec": {
   "display_name": "Python 3",
   "language": "python",
   "name": "python3"
  },
  "language_info": {
   "codemirror_mode": {
    "name": "ipython",
    "version": 3
   },
   "file_extension": ".py",
   "mimetype": "text/x-python",
   "name": "python",
   "nbconvert_exporter": "python",
   "pygments_lexer": "ipython3",
   "version": "3.8.5"
  }
 },
 "nbformat": 4,
 "nbformat_minor": 4
}
